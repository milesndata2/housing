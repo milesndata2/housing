{
 "cells": [
  {
   "cell_type": "code",
   "execution_count": 1,
   "metadata": {},
   "outputs": [],
   "source": [
    "from sklearn.preprocessing import LabelEncoder\n"
   ]
  },
  {
   "cell_type": "code",
   "execution_count": 2,
   "metadata": {},
   "outputs": [
    {
     "data": {
      "text/html": [
       "<div>\n",
       "<style scoped>\n",
       "    .dataframe tbody tr th:only-of-type {\n",
       "        vertical-align: middle;\n",
       "    }\n",
       "\n",
       "    .dataframe tbody tr th {\n",
       "        vertical-align: top;\n",
       "    }\n",
       "\n",
       "    .dataframe thead th {\n",
       "        text-align: right;\n",
       "    }\n",
       "</style>\n",
       "<table border=\"1\" class=\"dataframe\">\n",
       "  <thead>\n",
       "    <tr style=\"text-align: right;\">\n",
       "      <th></th>\n",
       "      <th>RDEATH2016</th>\n",
       "      <th>RNATURALINC2016</th>\n",
       "      <th>RINTERNATIONALMIG2016</th>\n",
       "      <th>RDOMESTICMIG2016</th>\n",
       "      <th>RBIRTH2016</th>\n",
       "      <th>HPIUS</th>\n",
       "      <th>mortgrate</th>\n",
       "      <th>unemp</th>\n",
       "      <th>cpi</th>\n",
       "      <th>AL</th>\n",
       "      <th>...</th>\n",
       "      <th>RNATURALINC2016 (t-2)</th>\n",
       "      <th>RINTERNATIONALMIG2016 (t-2)</th>\n",
       "      <th>RDOMESTICMIG2016 (t-2)</th>\n",
       "      <th>RBIRTH2016 (t-2)</th>\n",
       "      <th>price (t-2)</th>\n",
       "      <th>HPIUS (t-2)</th>\n",
       "      <th>mortgrate (t-2)</th>\n",
       "      <th>unemp (t-2)</th>\n",
       "      <th>cpi (t-2)</th>\n",
       "      <th>price</th>\n",
       "    </tr>\n",
       "    <tr>\n",
       "      <th>Year</th>\n",
       "      <th></th>\n",
       "      <th></th>\n",
       "      <th></th>\n",
       "      <th></th>\n",
       "      <th></th>\n",
       "      <th></th>\n",
       "      <th></th>\n",
       "      <th></th>\n",
       "      <th></th>\n",
       "      <th></th>\n",
       "      <th></th>\n",
       "      <th></th>\n",
       "      <th></th>\n",
       "      <th></th>\n",
       "      <th></th>\n",
       "      <th></th>\n",
       "      <th></th>\n",
       "      <th></th>\n",
       "      <th></th>\n",
       "      <th></th>\n",
       "      <th></th>\n",
       "    </tr>\n",
       "  </thead>\n",
       "  <tbody>\n",
       "    <tr>\n",
       "      <th>2011-01-01</th>\n",
       "      <td>11.632586</td>\n",
       "      <td>0.621868</td>\n",
       "      <td>-0.146322</td>\n",
       "      <td>-1.133994</td>\n",
       "      <td>12.254454</td>\n",
       "      <td>-0.002834</td>\n",
       "      <td>0.010616</td>\n",
       "      <td>-0.021505</td>\n",
       "      <td>0.004763</td>\n",
       "      <td>1</td>\n",
       "      <td>...</td>\n",
       "      <td>2.345519</td>\n",
       "      <td>0.327282</td>\n",
       "      <td>5.836523</td>\n",
       "      <td>11.563952</td>\n",
       "      <td>-0.024568</td>\n",
       "      <td>-0.002834</td>\n",
       "      <td>0.010616</td>\n",
       "      <td>-0.021505</td>\n",
       "      <td>0.004763</td>\n",
       "      <td>-0.077495</td>\n",
       "    </tr>\n",
       "    <tr>\n",
       "      <th>2011-01-01</th>\n",
       "      <td>9.871136</td>\n",
       "      <td>3.058662</td>\n",
       "      <td>-0.052136</td>\n",
       "      <td>1.807391</td>\n",
       "      <td>12.929798</td>\n",
       "      <td>-0.002834</td>\n",
       "      <td>0.010616</td>\n",
       "      <td>-0.021505</td>\n",
       "      <td>0.004763</td>\n",
       "      <td>1</td>\n",
       "      <td>...</td>\n",
       "      <td>1.962947</td>\n",
       "      <td>0.989585</td>\n",
       "      <td>14.768069</td>\n",
       "      <td>11.831760</td>\n",
       "      <td>-0.093731</td>\n",
       "      <td>-0.002834</td>\n",
       "      <td>0.010616</td>\n",
       "      <td>-0.021505</td>\n",
       "      <td>0.004763</td>\n",
       "      <td>-0.086218</td>\n",
       "    </tr>\n",
       "    <tr>\n",
       "      <th>2011-01-01</th>\n",
       "      <td>12.950211</td>\n",
       "      <td>-1.174622</td>\n",
       "      <td>0.910332</td>\n",
       "      <td>-2.496072</td>\n",
       "      <td>11.775588</td>\n",
       "      <td>-0.002834</td>\n",
       "      <td>0.010616</td>\n",
       "      <td>-0.021505</td>\n",
       "      <td>0.004763</td>\n",
       "      <td>1</td>\n",
       "      <td>...</td>\n",
       "      <td>0.621868</td>\n",
       "      <td>-0.146322</td>\n",
       "      <td>-1.133994</td>\n",
       "      <td>12.254454</td>\n",
       "      <td>-0.077495</td>\n",
       "      <td>-0.002834</td>\n",
       "      <td>0.010616</td>\n",
       "      <td>-0.021505</td>\n",
       "      <td>0.004763</td>\n",
       "      <td>-0.194399</td>\n",
       "    </tr>\n",
       "    <tr>\n",
       "      <th>2011-01-01</th>\n",
       "      <td>11.911623</td>\n",
       "      <td>-3.419789</td>\n",
       "      <td>0.076849</td>\n",
       "      <td>6.109510</td>\n",
       "      <td>8.491835</td>\n",
       "      <td>-0.002834</td>\n",
       "      <td>0.010616</td>\n",
       "      <td>-0.021505</td>\n",
       "      <td>0.004763</td>\n",
       "      <td>1</td>\n",
       "      <td>...</td>\n",
       "      <td>3.058662</td>\n",
       "      <td>-0.052136</td>\n",
       "      <td>1.807391</td>\n",
       "      <td>12.929798</td>\n",
       "      <td>-0.086218</td>\n",
       "      <td>-0.002834</td>\n",
       "      <td>0.010616</td>\n",
       "      <td>-0.021505</td>\n",
       "      <td>0.004763</td>\n",
       "      <td>-0.148970</td>\n",
       "    </tr>\n",
       "    <tr>\n",
       "      <th>2011-01-01</th>\n",
       "      <td>10.092682</td>\n",
       "      <td>3.397340</td>\n",
       "      <td>1.728471</td>\n",
       "      <td>0.993374</td>\n",
       "      <td>13.490022</td>\n",
       "      <td>-0.002834</td>\n",
       "      <td>0.010616</td>\n",
       "      <td>-0.021505</td>\n",
       "      <td>0.004763</td>\n",
       "      <td>1</td>\n",
       "      <td>...</td>\n",
       "      <td>-1.174622</td>\n",
       "      <td>0.910332</td>\n",
       "      <td>-2.496072</td>\n",
       "      <td>11.775588</td>\n",
       "      <td>-0.194399</td>\n",
       "      <td>-0.002834</td>\n",
       "      <td>0.010616</td>\n",
       "      <td>-0.021505</td>\n",
       "      <td>0.004763</td>\n",
       "      <td>-0.076972</td>\n",
       "    </tr>\n",
       "  </tbody>\n",
       "</table>\n",
       "<p>5 rows × 80 columns</p>\n",
       "</div>"
      ],
      "text/plain": [
       "            RDEATH2016  RNATURALINC2016  RINTERNATIONALMIG2016  \\\n",
       "Year                                                             \n",
       "2011-01-01   11.632586         0.621868              -0.146322   \n",
       "2011-01-01    9.871136         3.058662              -0.052136   \n",
       "2011-01-01   12.950211        -1.174622               0.910332   \n",
       "2011-01-01   11.911623        -3.419789               0.076849   \n",
       "2011-01-01   10.092682         3.397340               1.728471   \n",
       "\n",
       "            RDOMESTICMIG2016  RBIRTH2016     HPIUS  mortgrate     unemp  \\\n",
       "Year                                                                      \n",
       "2011-01-01         -1.133994   12.254454 -0.002834   0.010616 -0.021505   \n",
       "2011-01-01          1.807391   12.929798 -0.002834   0.010616 -0.021505   \n",
       "2011-01-01         -2.496072   11.775588 -0.002834   0.010616 -0.021505   \n",
       "2011-01-01          6.109510    8.491835 -0.002834   0.010616 -0.021505   \n",
       "2011-01-01          0.993374   13.490022 -0.002834   0.010616 -0.021505   \n",
       "\n",
       "                 cpi  AL    ...     RNATURALINC2016 (t-2)  \\\n",
       "Year                        ...                             \n",
       "2011-01-01  0.004763   1    ...                  2.345519   \n",
       "2011-01-01  0.004763   1    ...                  1.962947   \n",
       "2011-01-01  0.004763   1    ...                  0.621868   \n",
       "2011-01-01  0.004763   1    ...                  3.058662   \n",
       "2011-01-01  0.004763   1    ...                 -1.174622   \n",
       "\n",
       "            RINTERNATIONALMIG2016 (t-2)  RDOMESTICMIG2016 (t-2)  \\\n",
       "Year                                                              \n",
       "2011-01-01                     0.327282                5.836523   \n",
       "2011-01-01                     0.989585               14.768069   \n",
       "2011-01-01                    -0.146322               -1.133994   \n",
       "2011-01-01                    -0.052136                1.807391   \n",
       "2011-01-01                     0.910332               -2.496072   \n",
       "\n",
       "            RBIRTH2016 (t-2)  price (t-2)  HPIUS (t-2)  mortgrate (t-2)  \\\n",
       "Year                                                                      \n",
       "2011-01-01         11.563952    -0.024568    -0.002834         0.010616   \n",
       "2011-01-01         11.831760    -0.093731    -0.002834         0.010616   \n",
       "2011-01-01         12.254454    -0.077495    -0.002834         0.010616   \n",
       "2011-01-01         12.929798    -0.086218    -0.002834         0.010616   \n",
       "2011-01-01         11.775588    -0.194399    -0.002834         0.010616   \n",
       "\n",
       "            unemp (t-2)  cpi (t-2)     price  \n",
       "Year                                          \n",
       "2011-01-01    -0.021505   0.004763 -0.077495  \n",
       "2011-01-01    -0.021505   0.004763 -0.086218  \n",
       "2011-01-01    -0.021505   0.004763 -0.194399  \n",
       "2011-01-01    -0.021505   0.004763 -0.148970  \n",
       "2011-01-01    -0.021505   0.004763 -0.076972  \n",
       "\n",
       "[5 rows x 80 columns]"
      ]
     },
     "execution_count": 2,
     "metadata": {},
     "output_type": "execute_result"
    }
   ],
   "source": [
    "import pandas as pd\n",
    "finaldf=pd.read_pickle('df18featuesy.p')\n",
    "finaldf.head()"
   ]
  },
  {
   "cell_type": "code",
   "execution_count": 5,
   "metadata": {},
   "outputs": [],
   "source": [
    "# features = finaldf.columns\n",
    "# features = features.drop('price')\n",
    "# features\n",
    "import numpy as np\n",
    "finaldf['price'] = np.where(finaldf['price']>=0, 1, 0)"
   ]
  },
  {
   "cell_type": "code",
   "execution_count": 6,
   "metadata": {},
   "outputs": [],
   "source": [
    "y = LabelEncoder().fit_transform(finaldf['price'])\n",
    "X = pd.get_dummies(finaldf.drop('price', axis=1))"
   ]
  },
  {
   "cell_type": "code",
   "execution_count": 7,
   "metadata": {},
   "outputs": [],
   "source": [
    "from sklearn.model_selection import cross_val_score, StratifiedKFold\n",
    "from sklearn.tree import DecisionTreeClassifier\n",
    "from sklearn.ensemble import RandomForestClassifier, ExtraTreesClassifier, BaggingClassifier\n",
    "\n",
    "cv = StratifiedKFold(n_splits=3, shuffle=True, random_state=41)"
   ]
  },
  {
   "cell_type": "code",
   "execution_count": 8,
   "metadata": {},
   "outputs": [
    {
     "name": "stdout",
     "output_type": "stream",
     "text": [
      "Decision Tree Score:\t0.619 ± 0.003\n"
     ]
    }
   ],
   "source": [
    "dt = DecisionTreeClassifier()\n",
    "# plain \n",
    "s = cross_val_score(dt, X, y, cv=cv, n_jobs=-1)\n",
    "print(\"{} Score:\\t{:0.3} ± {:0.3}\".format(\"Decision Tree\", s.mean().round(3), s.std().round(3)))"
   ]
  },
  {
   "cell_type": "code",
   "execution_count": 9,
   "metadata": {},
   "outputs": [
    {
     "name": "stdout",
     "output_type": "stream",
     "text": [
      "Bagging Score:\t0.664 ± 0.005\n"
     ]
    }
   ],
   "source": [
    "#boot strapping only - Joshi\n",
    "dt = BaggingClassifier()\n",
    "s = cross_val_score(dt, X, y, cv=cv, n_jobs=-1)\n",
    "print(\"{} Score:\\t{:0.3} ± {:0.3}\".format(\"Bagging\", s.mean().round(3), s.std().round(3)))"
   ]
  },
  {
   "cell_type": "code",
   "execution_count": 10,
   "metadata": {},
   "outputs": [
    {
     "name": "stdout",
     "output_type": "stream",
     "text": [
      "Random Forest Score:\t0.671 ± 0.003\n"
     ]
    }
   ],
   "source": [
    "dt = RandomForestClassifier()\n",
    "s = cross_val_score(dt, X, y, cv=cv, n_jobs=-1)\n",
    "print(\"{} Score:\\t{:0.3} ± {:0.3}\".format(\"Random Forest\", s.mean().round(3), s.std().round(3)))"
   ]
  },
  {
   "cell_type": "code",
   "execution_count": 12,
   "metadata": {},
   "outputs": [
    {
     "name": "stdout",
     "output_type": "stream",
     "text": [
      "Extra Trees with Balanced Classes Score:\t0.67 ± 0.003\n"
     ]
    }
   ],
   "source": [
    "dt = ExtraTreesClassifier(class_weight = 'balanced')\n",
    "s = cross_val_score(dt, X, y, cv=cv, n_jobs=-1)\n",
    "print(\"{} Score:\\t{:0.3} ± {:0.3}\".format(\"Extra Trees with Balanced Classes\", s.mean().round(3), s.std().round(3)))"
   ]
  },
  {
   "cell_type": "code",
   "execution_count": null,
   "metadata": {},
   "outputs": [],
   "source": []
  }
 ],
 "metadata": {
  "kernelspec": {
   "display_name": "Python 3",
   "language": "python",
   "name": "python3"
  },
  "language_info": {
   "codemirror_mode": {
    "name": "ipython",
    "version": 3
   },
   "file_extension": ".py",
   "mimetype": "text/x-python",
   "name": "python",
   "nbconvert_exporter": "python",
   "pygments_lexer": "ipython3",
   "version": "3.6.4"
  }
 },
 "nbformat": 4,
 "nbformat_minor": 2
}
