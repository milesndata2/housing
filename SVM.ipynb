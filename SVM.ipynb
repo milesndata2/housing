{
 "cells": [
  {
   "cell_type": "code",
   "execution_count": 2,
   "metadata": {},
   "outputs": [
    {
     "data": {
      "text/html": [
       "<div>\n",
       "<style scoped>\n",
       "    .dataframe tbody tr th:only-of-type {\n",
       "        vertical-align: middle;\n",
       "    }\n",
       "\n",
       "    .dataframe tbody tr th {\n",
       "        vertical-align: top;\n",
       "    }\n",
       "\n",
       "    .dataframe thead th {\n",
       "        text-align: right;\n",
       "    }\n",
       "</style>\n",
       "<table border=\"1\" class=\"dataframe\">\n",
       "  <thead>\n",
       "    <tr style=\"text-align: right;\">\n",
       "      <th></th>\n",
       "      <th>RDEATH2016</th>\n",
       "      <th>RNATURALINC2016</th>\n",
       "      <th>RINTERNATIONALMIG2016</th>\n",
       "      <th>RDOMESTICMIG2016</th>\n",
       "      <th>RBIRTH2016</th>\n",
       "      <th>HPIUS</th>\n",
       "      <th>mortgrate</th>\n",
       "      <th>unemp</th>\n",
       "      <th>cpi</th>\n",
       "      <th>AL</th>\n",
       "      <th>...</th>\n",
       "      <th>RNATURALINC2016 (t-2)</th>\n",
       "      <th>RINTERNATIONALMIG2016 (t-2)</th>\n",
       "      <th>RDOMESTICMIG2016 (t-2)</th>\n",
       "      <th>RBIRTH2016 (t-2)</th>\n",
       "      <th>price (t-2)</th>\n",
       "      <th>HPIUS (t-2)</th>\n",
       "      <th>mortgrate (t-2)</th>\n",
       "      <th>unemp (t-2)</th>\n",
       "      <th>cpi (t-2)</th>\n",
       "      <th>price</th>\n",
       "    </tr>\n",
       "    <tr>\n",
       "      <th>Year</th>\n",
       "      <th></th>\n",
       "      <th></th>\n",
       "      <th></th>\n",
       "      <th></th>\n",
       "      <th></th>\n",
       "      <th></th>\n",
       "      <th></th>\n",
       "      <th></th>\n",
       "      <th></th>\n",
       "      <th></th>\n",
       "      <th></th>\n",
       "      <th></th>\n",
       "      <th></th>\n",
       "      <th></th>\n",
       "      <th></th>\n",
       "      <th></th>\n",
       "      <th></th>\n",
       "      <th></th>\n",
       "      <th></th>\n",
       "      <th></th>\n",
       "      <th></th>\n",
       "    </tr>\n",
       "  </thead>\n",
       "  <tbody>\n",
       "    <tr>\n",
       "      <th>2011-01-01</th>\n",
       "      <td>11.632586</td>\n",
       "      <td>0.621868</td>\n",
       "      <td>-0.146322</td>\n",
       "      <td>-1.133994</td>\n",
       "      <td>12.254454</td>\n",
       "      <td>-0.002834</td>\n",
       "      <td>0.010616</td>\n",
       "      <td>-0.021505</td>\n",
       "      <td>0.004763</td>\n",
       "      <td>1</td>\n",
       "      <td>...</td>\n",
       "      <td>2.345519</td>\n",
       "      <td>0.327282</td>\n",
       "      <td>5.836523</td>\n",
       "      <td>11.563952</td>\n",
       "      <td>-0.024568</td>\n",
       "      <td>-0.002834</td>\n",
       "      <td>0.010616</td>\n",
       "      <td>-0.021505</td>\n",
       "      <td>0.004763</td>\n",
       "      <td>-0.077495</td>\n",
       "    </tr>\n",
       "    <tr>\n",
       "      <th>2011-01-01</th>\n",
       "      <td>9.871136</td>\n",
       "      <td>3.058662</td>\n",
       "      <td>-0.052136</td>\n",
       "      <td>1.807391</td>\n",
       "      <td>12.929798</td>\n",
       "      <td>-0.002834</td>\n",
       "      <td>0.010616</td>\n",
       "      <td>-0.021505</td>\n",
       "      <td>0.004763</td>\n",
       "      <td>1</td>\n",
       "      <td>...</td>\n",
       "      <td>1.962947</td>\n",
       "      <td>0.989585</td>\n",
       "      <td>14.768069</td>\n",
       "      <td>11.831760</td>\n",
       "      <td>-0.093731</td>\n",
       "      <td>-0.002834</td>\n",
       "      <td>0.010616</td>\n",
       "      <td>-0.021505</td>\n",
       "      <td>0.004763</td>\n",
       "      <td>-0.086218</td>\n",
       "    </tr>\n",
       "    <tr>\n",
       "      <th>2011-01-01</th>\n",
       "      <td>12.950211</td>\n",
       "      <td>-1.174622</td>\n",
       "      <td>0.910332</td>\n",
       "      <td>-2.496072</td>\n",
       "      <td>11.775588</td>\n",
       "      <td>-0.002834</td>\n",
       "      <td>0.010616</td>\n",
       "      <td>-0.021505</td>\n",
       "      <td>0.004763</td>\n",
       "      <td>1</td>\n",
       "      <td>...</td>\n",
       "      <td>0.621868</td>\n",
       "      <td>-0.146322</td>\n",
       "      <td>-1.133994</td>\n",
       "      <td>12.254454</td>\n",
       "      <td>-0.077495</td>\n",
       "      <td>-0.002834</td>\n",
       "      <td>0.010616</td>\n",
       "      <td>-0.021505</td>\n",
       "      <td>0.004763</td>\n",
       "      <td>-0.194399</td>\n",
       "    </tr>\n",
       "    <tr>\n",
       "      <th>2011-01-01</th>\n",
       "      <td>11.911623</td>\n",
       "      <td>-3.419789</td>\n",
       "      <td>0.076849</td>\n",
       "      <td>6.109510</td>\n",
       "      <td>8.491835</td>\n",
       "      <td>-0.002834</td>\n",
       "      <td>0.010616</td>\n",
       "      <td>-0.021505</td>\n",
       "      <td>0.004763</td>\n",
       "      <td>1</td>\n",
       "      <td>...</td>\n",
       "      <td>3.058662</td>\n",
       "      <td>-0.052136</td>\n",
       "      <td>1.807391</td>\n",
       "      <td>12.929798</td>\n",
       "      <td>-0.086218</td>\n",
       "      <td>-0.002834</td>\n",
       "      <td>0.010616</td>\n",
       "      <td>-0.021505</td>\n",
       "      <td>0.004763</td>\n",
       "      <td>-0.148970</td>\n",
       "    </tr>\n",
       "    <tr>\n",
       "      <th>2011-01-01</th>\n",
       "      <td>10.092682</td>\n",
       "      <td>3.397340</td>\n",
       "      <td>1.728471</td>\n",
       "      <td>0.993374</td>\n",
       "      <td>13.490022</td>\n",
       "      <td>-0.002834</td>\n",
       "      <td>0.010616</td>\n",
       "      <td>-0.021505</td>\n",
       "      <td>0.004763</td>\n",
       "      <td>1</td>\n",
       "      <td>...</td>\n",
       "      <td>-1.174622</td>\n",
       "      <td>0.910332</td>\n",
       "      <td>-2.496072</td>\n",
       "      <td>11.775588</td>\n",
       "      <td>-0.194399</td>\n",
       "      <td>-0.002834</td>\n",
       "      <td>0.010616</td>\n",
       "      <td>-0.021505</td>\n",
       "      <td>0.004763</td>\n",
       "      <td>-0.076972</td>\n",
       "    </tr>\n",
       "  </tbody>\n",
       "</table>\n",
       "<p>5 rows × 80 columns</p>\n",
       "</div>"
      ],
      "text/plain": [
       "            RDEATH2016  RNATURALINC2016  RINTERNATIONALMIG2016  \\\n",
       "Year                                                             \n",
       "2011-01-01   11.632586         0.621868              -0.146322   \n",
       "2011-01-01    9.871136         3.058662              -0.052136   \n",
       "2011-01-01   12.950211        -1.174622               0.910332   \n",
       "2011-01-01   11.911623        -3.419789               0.076849   \n",
       "2011-01-01   10.092682         3.397340               1.728471   \n",
       "\n",
       "            RDOMESTICMIG2016  RBIRTH2016     HPIUS  mortgrate     unemp  \\\n",
       "Year                                                                      \n",
       "2011-01-01         -1.133994   12.254454 -0.002834   0.010616 -0.021505   \n",
       "2011-01-01          1.807391   12.929798 -0.002834   0.010616 -0.021505   \n",
       "2011-01-01         -2.496072   11.775588 -0.002834   0.010616 -0.021505   \n",
       "2011-01-01          6.109510    8.491835 -0.002834   0.010616 -0.021505   \n",
       "2011-01-01          0.993374   13.490022 -0.002834   0.010616 -0.021505   \n",
       "\n",
       "                 cpi  AL    ...     RNATURALINC2016 (t-2)  \\\n",
       "Year                        ...                             \n",
       "2011-01-01  0.004763   1    ...                  2.345519   \n",
       "2011-01-01  0.004763   1    ...                  1.962947   \n",
       "2011-01-01  0.004763   1    ...                  0.621868   \n",
       "2011-01-01  0.004763   1    ...                  3.058662   \n",
       "2011-01-01  0.004763   1    ...                 -1.174622   \n",
       "\n",
       "            RINTERNATIONALMIG2016 (t-2)  RDOMESTICMIG2016 (t-2)  \\\n",
       "Year                                                              \n",
       "2011-01-01                     0.327282                5.836523   \n",
       "2011-01-01                     0.989585               14.768069   \n",
       "2011-01-01                    -0.146322               -1.133994   \n",
       "2011-01-01                    -0.052136                1.807391   \n",
       "2011-01-01                     0.910332               -2.496072   \n",
       "\n",
       "            RBIRTH2016 (t-2)  price (t-2)  HPIUS (t-2)  mortgrate (t-2)  \\\n",
       "Year                                                                      \n",
       "2011-01-01         11.563952    -0.024568    -0.002834         0.010616   \n",
       "2011-01-01         11.831760    -0.093731    -0.002834         0.010616   \n",
       "2011-01-01         12.254454    -0.077495    -0.002834         0.010616   \n",
       "2011-01-01         12.929798    -0.086218    -0.002834         0.010616   \n",
       "2011-01-01         11.775588    -0.194399    -0.002834         0.010616   \n",
       "\n",
       "            unemp (t-2)  cpi (t-2)     price  \n",
       "Year                                          \n",
       "2011-01-01    -0.021505   0.004763 -0.077495  \n",
       "2011-01-01    -0.021505   0.004763 -0.086218  \n",
       "2011-01-01    -0.021505   0.004763 -0.194399  \n",
       "2011-01-01    -0.021505   0.004763 -0.148970  \n",
       "2011-01-01    -0.021505   0.004763 -0.076972  \n",
       "\n",
       "[5 rows x 80 columns]"
      ]
     },
     "execution_count": 2,
     "metadata": {},
     "output_type": "execute_result"
    }
   ],
   "source": [
    "import pandas as pd\n",
    "finaldf=pd.read_pickle('df18featuesy.p')\n",
    "finaldf.head()"
   ]
  },
  {
   "cell_type": "code",
   "execution_count": 3,
   "metadata": {},
   "outputs": [
    {
     "data": {
      "text/plain": [
       "Index(['RDEATH2016', 'RNATURALINC2016', 'RINTERNATIONALMIG2016',\n",
       "       'RDOMESTICMIG2016', 'RBIRTH2016', 'HPIUS', 'mortgrate', 'unemp', 'cpi',\n",
       "       'AL', 'AR', 'AZ', 'CA', 'CO', 'CT', 'DE', 'FL', 'GA', 'HI', 'IA', 'ID',\n",
       "       'IL', 'IN', 'KS', 'KY', 'MA', 'MD', 'ME', 'MI', 'MN', 'MO', 'MS', 'MT',\n",
       "       'NC', 'ND', 'NE', 'NH', 'NJ', 'NM', 'NV', 'NY', 'OH', 'OK', 'OR', 'PA',\n",
       "       'RI', 'SC', 'SD', 'TN', 'TX', 'UT', 'VA', 'VT', 'WA', 'WI', 'WV', 'WY',\n",
       "       'RDEATH2016 (t-1)', 'RNETMIG2016 (t-1)', 'RNATURALINC2016 (t-1)',\n",
       "       'RINTERNATIONALMIG2016 (t-1)', 'RDOMESTICMIG2016 (t-1)',\n",
       "       'RBIRTH2016 (t-1)', 'price (t-1)', 'HPIUS (t-1)', 'mortgrate (t-1)',\n",
       "       'unemp (t-1)', 'cpi (t-1)', 'RDEATH2016 (t-2)', 'RNETMIG2016 (t-2)',\n",
       "       'RNATURALINC2016 (t-2)', 'RINTERNATIONALMIG2016 (t-2)',\n",
       "       'RDOMESTICMIG2016 (t-2)', 'RBIRTH2016 (t-2)', 'price (t-2)',\n",
       "       'HPIUS (t-2)', 'mortgrate (t-2)', 'unemp (t-2)', 'cpi (t-2)'],\n",
       "      dtype='object')"
      ]
     },
     "execution_count": 3,
     "metadata": {},
     "output_type": "execute_result"
    }
   ],
   "source": [
    "features = finaldf.columns\n",
    "features = features.drop('price')\n",
    "features"
   ]
  },
  {
   "cell_type": "code",
   "execution_count": 10,
   "metadata": {},
   "outputs": [],
   "source": [
    "import numpy as np\n",
    "finaldf['price'] = np.where(finaldf['price']>=0, 1, 0)"
   ]
  },
  {
   "cell_type": "code",
   "execution_count": 11,
   "metadata": {},
   "outputs": [
    {
     "name": "stdout",
     "output_type": "stream",
     "text": [
      "-0.1571199226433269\n"
     ]
    }
   ],
   "source": [
    "from sklearn.preprocessing import StandardScaler\n",
    "from sklearn.linear_model import LinearRegression\n",
    "from sklearn.model_selection import cross_val_score\n",
    "\n",
    "X = finaldf[features]\n",
    "y = finaldf['price']\n",
    "\n",
    "ss = StandardScaler()\n",
    "Xs = ss.fit_transform(X)\n",
    "\n",
    "lr = LinearRegression()\n",
    "\n",
    "print(cross_val_score(lr, Xs, y, cv=5).mean())"
   ]
  },
  {
   "cell_type": "code",
   "execution_count": 12,
   "metadata": {},
   "outputs": [],
   "source": [
    "from sklearn import svm"
   ]
  },
  {
   "cell_type": "code",
   "execution_count": 13,
   "metadata": {},
   "outputs": [
    {
     "name": "stdout",
     "output_type": "stream",
     "text": [
      "0.4088985680719953\n"
     ]
    }
   ],
   "source": [
    "# Start with logistic Regression\n",
    "# logistic = linear_model.LogisticRegression()\n",
    "# print cross_val_score(logistic, iris_X, iris_y, cv=5, scoring='accuracy').mean()\n",
    "\n",
    "\n",
    "# Let's try a SVM\n",
    "clf = svm.SVC()\n",
    "print (cross_val_score(clf, Xs, y, cv=5, scoring='accuracy').mean())"
   ]
  },
  {
   "cell_type": "code",
   "execution_count": 21,
   "metadata": {},
   "outputs": [
    {
     "name": "stdout",
     "output_type": "stream",
     "text": [
      "0.5322441318594202\n"
     ]
    }
   ],
   "source": [
    "# Start with logistic Regression\n",
    "from sklearn.linear_model import LogisticRegression\n",
    "from sklearn import linear_model as LR\n",
    "\n",
    "logistic = LR.LogisticRegression()\n",
    "print (cross_val_score(logistic, Xs, y, cv=5, scoring='accuracy').mean())\n"
   ]
  },
  {
   "cell_type": "code",
   "execution_count": 26,
   "metadata": {},
   "outputs": [
    {
     "name": "stdout",
     "output_type": "stream",
     "text": [
      "0.5322441318594202\n",
      "0.5047360412445334 i like lines\n",
      "0.3813823281673356 i like 3rd degree polynomials\n",
      "0.4088985680719953 i like circles\n"
     ]
    }
   ],
   "source": [
    "# let's try to predict them without graphs\n",
    "\n",
    "circles_X = Xs\n",
    "circles_y =y\n",
    "\n",
    "logreg = LogisticRegression()\n",
    "print(cross_val_score(logreg, circles_X, circles_y, cv=5, scoring='accuracy').mean())\n",
    "\n",
    "svc = svm.SVC(kernel = 'linear')        # I like lines\n",
    "print(cross_val_score(svc, circles_X, circles_y, cv=5, scoring='accuracy').mean())\n",
    "\n",
    "\n",
    "poly_svc = svm.SVC(kernel = 'poly', degree = 3)        # I like 3rd degree polys\n",
    "print(cross_val_score(poly_svc, circles_X, circles_y, cv=5, scoring='accuracy').mean())\n",
    "\n",
    "rbf_svc = svm.SVC(kernel = 'rbf')           # I like circles\n",
    "print(cross_val_score(rbf_svc, circles_X, circles_y, cv=5, scoring='accuracy').mean())\n"
   ]
  },
  {
   "cell_type": "code",
   "execution_count": 34,
   "metadata": {},
   "outputs": [
    {
     "name": "stdout",
     "output_type": "stream",
     "text": [
      "0.5827300903071696 i like circles\n"
     ]
    }
   ],
   "source": [
    "svc = svm.SVC(C=.001, kernel = 'linear', degree=1)        # I like lines\n",
    "print(cross_val_score(svc, circles_X, circles_y, cv=5, scoring='accuracy').mean())\n"
   ]
  },
  {
   "cell_type": "markdown",
   "metadata": {},
   "source": [
    "https://stats.stackexchange.com/questions/31066/what-is-the-influence-of-c-in-svms-with-linear-kernel\n",
    "\n",
    "\n",
    "C is a regularization parameter that controls the trade off between the achieving a low training error and a low testing error that is the ability to generalize your classifier to unseen data. "
   ]
  },
  {
   "cell_type": "code",
   "execution_count": null,
   "metadata": {},
   "outputs": [],
   "source": []
  },
  {
   "cell_type": "code",
   "execution_count": null,
   "metadata": {},
   "outputs": [],
   "source": []
  }
 ],
 "metadata": {
  "kernelspec": {
   "display_name": "Python 3",
   "language": "python",
   "name": "python3"
  },
  "language_info": {
   "codemirror_mode": {
    "name": "ipython",
    "version": 3
   },
   "file_extension": ".py",
   "mimetype": "text/x-python",
   "name": "python",
   "nbconvert_exporter": "python",
   "pygments_lexer": "ipython3",
   "version": "3.6.4"
  }
 },
 "nbformat": 4,
 "nbformat_minor": 2
}
